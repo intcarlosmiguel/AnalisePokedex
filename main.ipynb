{
 "cells": [
  {
   "cell_type": "code",
   "execution_count": 3,
   "metadata": {},
   "outputs": [],
   "source": [
    "import numpy as np  \n",
    "import matplotlib.pyplot as plt \n",
    "import pandas as pd \n",
    "from IPython.display import Image, HTML \n",
    "import os "
   ]
  },
  {
   "cell_type": "code",
   "execution_count": 28,
   "metadata": {},
   "outputs": [],
   "source": [
    "image_dir = 'archive/images/'\n",
    "df = pd.read_csv('archive/pokedex.csv')\n",
    "\n",
    "# Atualizar o DataFrame com o caminho correto das imagens\n",
    "df['Image'] = df['Image'].apply(lambda x: os.path.join(image_dir, os.path.basename(x)))\n",
    "\n",
    "# Função para converter o caminho das imagens em HTML para exibição\n",
    "def path_to_image_html(path):\n",
    "    return f'<img src=\"{path}\" width=\"60\" >'\n",
    "\n",
    "# Aplicar a função para converter os caminhos em HTML\n",
    "df['Image'] = df['Image'].apply(path_to_image_html)\n",
    "\n",
    "# Usar o Styler do pandas para renderizar a tabela com HTML\n",
    "df_styled = df.style.format({'Image': lambda x: x}).set_table_styles([\n",
    "    {'selector': 'tr:hover', 'props': [('background-color', '#f2f2f2')]},\n",
    "    {'selector': 'th', 'props': [('background-color', '#404040'), ('color', 'white')]}\n",
    "])\n",
    "#df_styled"
   ]
  },
  {
   "cell_type": "code",
   "execution_count": 37,
   "metadata": {},
   "outputs": [],
   "source": [
    "#Filtro de tipos 1 pokedex \n",
    "filtro_tipo1 = df[df['Type 1'] == 'Electric']\n",
    "\n",
    "filtro_tipo1_styled = filtro_tipo1.style.format({\"Image\": lambda x: x})\n",
    "#filtro_tipo1_styled"
   ]
  },
  {
   "cell_type": "code",
   "execution_count": 42,
   "metadata": {},
   "outputs": [],
   "source": [
    "#Sort de valores \n",
    "df_sorted = df.sort_values(by = 'Attack', ascending = False)\n",
    "df_sorted_style = df_sorted.style.format({\"Image\": lambda x: x})\n",
    "\n",
    "#df_sorted_style"
   ]
  },
  {
   "cell_type": "code",
   "execution_count": 56,
   "metadata": {},
   "outputs": [
    {
     "data": {
      "text/html": [
       "<style type=\"text/css\">\n",
       "</style>\n",
       "<table id=\"T_ba970\">\n",
       "  <thead>\n",
       "    <tr>\n",
       "      <th class=\"blank level0\" >&nbsp;</th>\n",
       "      <th id=\"T_ba970_level0_col0\" class=\"col_heading level0 col0\" >Image</th>\n",
       "      <th id=\"T_ba970_level0_col1\" class=\"col_heading level0 col1\" >Index</th>\n",
       "      <th id=\"T_ba970_level0_col2\" class=\"col_heading level0 col2\" >Name</th>\n",
       "      <th id=\"T_ba970_level0_col3\" class=\"col_heading level0 col3\" >Type 1</th>\n",
       "      <th id=\"T_ba970_level0_col4\" class=\"col_heading level0 col4\" >Type 2</th>\n",
       "      <th id=\"T_ba970_level0_col5\" class=\"col_heading level0 col5\" >Total</th>\n",
       "      <th id=\"T_ba970_level0_col6\" class=\"col_heading level0 col6\" >HP</th>\n",
       "      <th id=\"T_ba970_level0_col7\" class=\"col_heading level0 col7\" >Attack</th>\n",
       "      <th id=\"T_ba970_level0_col8\" class=\"col_heading level0 col8\" >Defense</th>\n",
       "      <th id=\"T_ba970_level0_col9\" class=\"col_heading level0 col9\" >SP. Atk.</th>\n",
       "      <th id=\"T_ba970_level0_col10\" class=\"col_heading level0 col10\" >SP. Def</th>\n",
       "      <th id=\"T_ba970_level0_col11\" class=\"col_heading level0 col11\" >Speed</th>\n",
       "    </tr>\n",
       "  </thead>\n",
       "  <tbody>\n",
       "    <tr>\n",
       "      <th id=\"T_ba970_level0_row0\" class=\"row_heading level0 row0\" >200</th>\n",
       "      <td id=\"T_ba970_row0_col0\" class=\"data row0 col0\" ><img src=\"archive/images/201.png\" width=\"60\" ></td>\n",
       "      <td id=\"T_ba970_row0_col1\" class=\"data row0 col1\" >150</td>\n",
       "      <td id=\"T_ba970_row0_col2\" class=\"data row0 col2\" >Mewtwo</td>\n",
       "      <td id=\"T_ba970_row0_col3\" class=\"data row0 col3\" >Psychic</td>\n",
       "      <td id=\"T_ba970_row0_col4\" class=\"data row0 col4\" >nan</td>\n",
       "      <td id=\"T_ba970_row0_col5\" class=\"data row0 col5\" >680</td>\n",
       "      <td id=\"T_ba970_row0_col6\" class=\"data row0 col6\" >106</td>\n",
       "      <td id=\"T_ba970_row0_col7\" class=\"data row0 col7\" >110</td>\n",
       "      <td id=\"T_ba970_row0_col8\" class=\"data row0 col8\" >90</td>\n",
       "      <td id=\"T_ba970_row0_col9\" class=\"data row0 col9\" >154</td>\n",
       "      <td id=\"T_ba970_row0_col10\" class=\"data row0 col10\" >90</td>\n",
       "      <td id=\"T_ba970_row0_col11\" class=\"data row0 col11\" >130</td>\n",
       "    </tr>\n",
       "    <tr>\n",
       "      <th id=\"T_ba970_level0_row1\" class=\"row_heading level0 row1\" >201</th>\n",
       "      <td id=\"T_ba970_row1_col0\" class=\"data row1 col0\" ><img src=\"archive/images/202.png\" width=\"60\" ></td>\n",
       "      <td id=\"T_ba970_row1_col1\" class=\"data row1 col1\" >150</td>\n",
       "      <td id=\"T_ba970_row1_col2\" class=\"data row1 col2\" >Mewtwo Mega Mewtwo X</td>\n",
       "      <td id=\"T_ba970_row1_col3\" class=\"data row1 col3\" >Psychic</td>\n",
       "      <td id=\"T_ba970_row1_col4\" class=\"data row1 col4\" >Fighting</td>\n",
       "      <td id=\"T_ba970_row1_col5\" class=\"data row1 col5\" >780</td>\n",
       "      <td id=\"T_ba970_row1_col6\" class=\"data row1 col6\" >106</td>\n",
       "      <td id=\"T_ba970_row1_col7\" class=\"data row1 col7\" >190</td>\n",
       "      <td id=\"T_ba970_row1_col8\" class=\"data row1 col8\" >100</td>\n",
       "      <td id=\"T_ba970_row1_col9\" class=\"data row1 col9\" >154</td>\n",
       "      <td id=\"T_ba970_row1_col10\" class=\"data row1 col10\" >100</td>\n",
       "      <td id=\"T_ba970_row1_col11\" class=\"data row1 col11\" >130</td>\n",
       "    </tr>\n",
       "    <tr>\n",
       "      <th id=\"T_ba970_level0_row2\" class=\"row_heading level0 row2\" >202</th>\n",
       "      <td id=\"T_ba970_row2_col0\" class=\"data row2 col0\" ><img src=\"archive/images/203.png\" width=\"60\" ></td>\n",
       "      <td id=\"T_ba970_row2_col1\" class=\"data row2 col1\" >150</td>\n",
       "      <td id=\"T_ba970_row2_col2\" class=\"data row2 col2\" >Mewtwo Mega Mewtwo Y</td>\n",
       "      <td id=\"T_ba970_row2_col3\" class=\"data row2 col3\" >Psychic</td>\n",
       "      <td id=\"T_ba970_row2_col4\" class=\"data row2 col4\" >nan</td>\n",
       "      <td id=\"T_ba970_row2_col5\" class=\"data row2 col5\" >780</td>\n",
       "      <td id=\"T_ba970_row2_col6\" class=\"data row2 col6\" >106</td>\n",
       "      <td id=\"T_ba970_row2_col7\" class=\"data row2 col7\" >150</td>\n",
       "      <td id=\"T_ba970_row2_col8\" class=\"data row2 col8\" >70</td>\n",
       "      <td id=\"T_ba970_row2_col9\" class=\"data row2 col9\" >194</td>\n",
       "      <td id=\"T_ba970_row2_col10\" class=\"data row2 col10\" >120</td>\n",
       "      <td id=\"T_ba970_row2_col11\" class=\"data row2 col11\" >140</td>\n",
       "    </tr>\n",
       "    <tr>\n",
       "      <th id=\"T_ba970_level0_row3\" class=\"row_heading level0 row3\" >203</th>\n",
       "      <td id=\"T_ba970_row3_col0\" class=\"data row3 col0\" ><img src=\"archive/images/204.png\" width=\"60\" ></td>\n",
       "      <td id=\"T_ba970_row3_col1\" class=\"data row3 col1\" >151</td>\n",
       "      <td id=\"T_ba970_row3_col2\" class=\"data row3 col2\" >Mew</td>\n",
       "      <td id=\"T_ba970_row3_col3\" class=\"data row3 col3\" >Psychic</td>\n",
       "      <td id=\"T_ba970_row3_col4\" class=\"data row3 col4\" >nan</td>\n",
       "      <td id=\"T_ba970_row3_col5\" class=\"data row3 col5\" >600</td>\n",
       "      <td id=\"T_ba970_row3_col6\" class=\"data row3 col6\" >100</td>\n",
       "      <td id=\"T_ba970_row3_col7\" class=\"data row3 col7\" >100</td>\n",
       "      <td id=\"T_ba970_row3_col8\" class=\"data row3 col8\" >100</td>\n",
       "      <td id=\"T_ba970_row3_col9\" class=\"data row3 col9\" >100</td>\n",
       "      <td id=\"T_ba970_row3_col10\" class=\"data row3 col10\" >100</td>\n",
       "      <td id=\"T_ba970_row3_col11\" class=\"data row3 col11\" >100</td>\n",
       "    </tr>\n",
       "  </tbody>\n",
       "</table>\n"
      ],
      "text/plain": [
       "<pandas.io.formats.style.Styler at 0x1c6919136b0>"
      ]
     },
     "execution_count": 56,
     "metadata": {},
     "output_type": "execute_result"
    }
   ],
   "source": [
    "#Busca por pokemon específico\n",
    "user_request = input('Type a pokémon name: ')\n",
    "\n",
    "#result = df[df['Name'].str.contains(user_request)]\n",
    "result = df[df['Name'].str.contains(user_request)]\n",
    "result_styled = result.style.format({\"Image\": lambda x: x})\n",
    "\n",
    "result_styled"
   ]
  }
 ],
 "metadata": {
  "kernelspec": {
   "display_name": "Python 3",
   "language": "python",
   "name": "python3"
  },
  "language_info": {
   "codemirror_mode": {
    "name": "ipython",
    "version": 3
   },
   "file_extension": ".py",
   "mimetype": "text/x-python",
   "name": "python",
   "nbconvert_exporter": "python",
   "pygments_lexer": "ipython3",
   "version": "3.12.3"
  }
 },
 "nbformat": 4,
 "nbformat_minor": 2
}
